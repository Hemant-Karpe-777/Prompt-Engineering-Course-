
{
 "cells": [
  {
   "cell_type": "markdown",
   "metadata": {},
   "source": [
    "# 📅 Day 4: Few-Shot Prompting\n",
    "Learn how to use few-shot examples to guide the model to generate high-quality, structured, and style-matched responses."
   ]
  },
  {
   "cell_type": "markdown",
   "metadata": {},
   "source": [
    "## 🔍 What is Few-Shot Prompting?\n",
    "\n",
    "Few-shot prompting teaches the AI model the format and style of response you want by showing it a few examples (usually 2–5).\n",
    "\n",
    "This gives the model \"context\" to mimic patterns.\n",
    "\n",
    "### 🔄 Format Pattern:\n",
    "```\n",
    "Example 1:\n",
    "Input: ...\n",
    "Output: ...\n",
    "\n",
    "Example 2:\n",
    "Input: ...\n",
    "Output: ...\n",
    "\n",
    "Query:\n",
    "Input: ...\n",
    "Output:\n",
    "```"
   ]
  },
  {
   "cell_type": "code",
   "execution_count": null,
   "metadata": {},
   "outputs": [],
   "source": [
    "# Sentiment Classifier using Few-Shot Prompt\n",
    "prompt = """Input: I love this place so much!\n",
    "Sentiment: Positive\n",
    "\n",
    "Input: This was a terrible product.\n",
    "Sentiment: Negative\n",
    "\n",
    "Input: It’s okay, but not great.\n",
    "Sentiment:"""\n",
    "\n",
    "print(prompt)"
   ]
  },
  {
   "cell_type": "code",
   "execution_count": null,
   "metadata": {},
   "outputs": [],
   "source": [
    "# Style Transfer using Few-Shot Prompt\n",
    "prompt = """Task: Convert informal sentence to formal tone.\n",
    "\n",
    "Informal: “Wanna hang out tmrw?”\n",
    "Formal: “Would you like to hang out tomorrow?”\n",
    "\n",
    "Informal: “Can't come rn, busy.”\n",
    "Formal:"""\n",
    "\n",
    "print(prompt)"
   ]
  },
  {
   "cell_type": "code",
   "execution_count": null,
   "metadata": {},
   "outputs": [],
   "source": [
    "# Extracting structured data in JSON\n",
    "prompt = """Input: Alice is 28 and lives in Paris.\n",
    "Output:\n",
    "{\n",
    "  \"name\": \"Alice\",\n",
    "  \"age\": 28,\n",
    "  \"location\": \"Paris\"\n",
    "}\n",
    "\n",
    "Input: Ron is 35 years old and lives in Tokyo.\n",
    "Output:"""\n",
    "\n",
    "print(prompt)"
   ]
  },
  {
   "cell_type": "markdown",
   "metadata": {},
   "source": [
    "## 🧠 Mini-Project: Build a Smart Prompt Generator\n",
    "\n",
    "Design a few-shot prompt for one of the following tasks:\n",
    "\n",
    "- 📋 Resume extractor → Extract Name, Email, Experience\n",
    "- 🧾 Invoice reader → Return total, sender, items\n",
    "- 🎨 Tone changer → Convert angry complaint to polite request\n",
    "- 🔠 Grammar fixer → Convert incorrect sentence to grammatically correct version\n",
    "\n",
    "⚙️ Use 2–3 good examples + one user input to get great results."
   ]
  },
  {
   "cell_type": "markdown",
   "metadata": {},
   "source": [
    "## ✅ Day 4 Summary\n",
    "\n",
    "| Concept | Learned? |\n",
    "|--------|----------|\n",
    "| What is Few-Shot | ✅ |\n",
    "| How it improves control | ✅ |\n",
    "| Prompt formats & tips | ✅ |\n",
    "| Built few-shot prompts | ✅ |\n",
    "| Applied to real use cases | ✅ |"
   ]
  }
 ],
 "metadata": {
  "colab": {
   "provenance": []
  },
  "kernelspec": {
   "display_name": "Python 3",
   "language": "python",
   "name": "python3"
  },
  "language_info": {
   "name": "python"
  }
 },
 "nbformat": 4,
 "nbformat_minor": 1
}
