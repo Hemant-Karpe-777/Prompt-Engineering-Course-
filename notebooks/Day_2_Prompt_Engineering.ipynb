{
 "cells": [
  {
   "cell_type": "markdown",
   "id": "9923cbe1",
   "metadata": {},
   "source": [
    "\n",
    "# 📅 Day 2: Prompt Structure, Context, and Roleplay\n",
    "\n",
    "🎯 **Goal**: Master how to craft effective prompts by using structure, role assignment, and contextual clarity — the foundation of powerful prompting.\n"
   ]
  },
  {
   "cell_type": "markdown",
   "id": "600e9425",
   "metadata": {},
   "source": [
    "\n",
    "## 📘 What You’ll Learn Today:\n",
    "- ✍️ Prompt formats (Instructional, Interrogative, Declarative)\n",
    "- 🎭 Role-based prompting: “Act as a…”\n",
    "- 🔍 Context enhancement: precision with goals, constraints, and expectations\n",
    "- 🪜 Prompt scaffolding (Step-by-step vs one-shot)\n",
    "- 🚫 Common mistakes to avoid (vague prompts, overloading)\n"
   ]
  },
  {
   "cell_type": "markdown",
   "id": "604542a0",
   "metadata": {},
   "source": [
    "\n",
    "## 🔁 Smart Prompt Formula\n",
    "\n",
    "```\n",
    "\"Act as a [Role], using [Context], generate [Goal Output] with [Format or Constraints].\"\n",
    "```\n",
    "\n",
    "## 🧠 Mind Map\n",
    "\n",
    "```\n",
    "Prompt Structure:\n",
    "├── Role (e.g., Expert, Analyst, Reviewer)\n",
    "├── Context (Background info, task type)\n",
    "├── Task (What you want)\n",
    "├── Format (e.g., table, markdown, code block)\n",
    "├── Constraints (e.g., tone, language limit)\n",
    "```\n"
   ]
  },
  {
   "cell_type": "markdown",
   "id": "a060b917",
   "metadata": {},
   "source": [
    "\n",
    "## 🛠️ Smart Tasks\n",
    "\n",
    "### ✅ Task 1: Role-based Prompting\n",
    "Prompt:\n",
    "``` \n",
    "Act as a data analyst. Summarize this dataset’s key insights in bullet points.\n",
    "```\n"
   ]
  },
  {
   "cell_type": "code",
   "execution_count": null,
   "id": "f2a082a2",
   "metadata": {},
   "outputs": [],
   "source": [
    "\n",
    "# Example simulated dataset\n",
    "import pandas as pd\n",
    "\n",
    "data = {\n",
    "    'Product': ['A', 'B', 'C'],\n",
    "    'Sales': [100, 200, 150],\n",
    "    'Profit': [20, 50, 30]\n",
    "}\n",
    "df = pd.DataFrame(data)\n",
    "df\n"
   ]
  },
  {
   "cell_type": "markdown",
   "id": "071bdcaa",
   "metadata": {},
   "source": [
    "\n",
    "Try prompting an AI tool (like ChatGPT) with this context:\n",
    "\n",
    "```\n",
    "Act as a data analyst. Given the following data:\n",
    "Product | Sales | Profit\n",
    "--------|-------|--------\n",
    "A       | 100   | 20\n",
    "B       | 200   | 50\n",
    "C       | 150   | 30\n",
    "\n",
    "Summarize the key insights in bullet points.\n",
    "```\n"
   ]
  },
  {
   "cell_type": "markdown",
   "id": "771cb493",
   "metadata": {},
   "source": [
    "\n",
    "### ✅ Task 2: Context Enhancement\n",
    "\n",
    "Prompt:\n",
    "```\n",
    "You are a financial expert. Given this CSV data of expenses, identify 3 unusual spending trends.\n",
    "```\n"
   ]
  },
  {
   "cell_type": "markdown",
   "id": "e323bd48",
   "metadata": {},
   "source": [
    "\n",
    "### ✅ Task 3: Prompt Variants Comparison\n",
    "\n",
    "Try this vague prompt:\n",
    "```\n",
    "Tell me about the data.\n",
    "```\n",
    "\n",
    "Now compare with this structured one:\n",
    "```\n",
    "Act as a business analyst. Based on this dataset, summarize key sales trends by product in 3 bullet points.\n",
    "```\n",
    "\n",
    "Observe the difference in depth, clarity, and usefulness.\n"
   ]
  },
  {
   "cell_type": "markdown",
   "id": "9f7bc1ea",
   "metadata": {},
   "source": [
    "\n",
    "## 📂 Notebook Project Idea: \"Prompt Refinement Playground\"\n",
    "\n",
    "Experiment with raw vs refined prompts and compare the quality of AI responses using different roles and prompt styles.\n"
   ]
  },
  {
   "cell_type": "markdown",
   "id": "e26f4906",
   "metadata": {},
   "source": [
    "\n",
    "## 🧠 Reflection\n",
    "\n",
    "- What changed when you added a role?\n",
    "- How did context improve the output?\n",
    "- Did prompt structure give you more control?\n"
   ]
  }
 ],
 "metadata": {},
 "nbformat": 4,
 "nbformat_minor": 5
}
