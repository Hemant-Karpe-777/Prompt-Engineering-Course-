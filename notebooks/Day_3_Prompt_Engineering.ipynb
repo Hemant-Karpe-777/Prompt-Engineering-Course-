{
  "nbformat": 4,
  "nbformat_minor": 0,
  "metadata": {
    "colab": {
      "provenance": []
    },
    "kernelspec": {
      "name": "python3",
      "display_name": "Python 3"
    },
    "language_info": {
      "name": "python"
    }
  },
  "cells": [
    {
      "cell_type": "markdown",
      "source": [
        "# 📅 Day 3: Chain of Thought, Self-Ask, and Rewriting Prompts\n",
        "\n",
        "🎯 **Goal**: Learn how to break down complex problems using structured prompting methods like Chain of Thought (CoT), Self-Ask prompting, and iterative refinement.\n"
      ],
      "metadata": {
        "id": "t-Os9YRPfHnY"
      }
    },
    {
      "cell_type": "markdown",
      "source": [
        "## 🔁 Prompt Techniques\n",
        "```\n",
        "✅ Chain of Thought (CoT) Prompting :\n",
        "Let’s solve this step by step: What is the first thing we need to know?\n",
        "\n",
        "✅ Self-Ask Prompting :\n",
        "Q: How many hours are in a week?\n",
        "Let’s break this down...\n",
        "→ First, how many hours in a day?\n",
        "→ Then multiply by number of days in a week.\n",
        "\n",
        "✅ Iterative Prompt Refinement :\n",
        "Start with a prompt → Review the output → Add constraints/clarity → Repeat\n",
        "```"
      ],
      "metadata": {
        "id": "OpmMfhw3fTLn"
      }
    },
    {
      "cell_type": "markdown",
      "source": [
        "\n",
        "## 🧠 Mind Map\n",
        "\n",
        "```markdown\n",
        "Problem Solving Prompts\n",
        "├── Chain of Thought\n",
        "│ └── “Step-by-step” for logic, analysis\n",
        "├── Self-Ask\n",
        "│ └── Ask sub-questions internally\n",
        "├── Refinement\n",
        "│ └── Improve clarity + results by rephrasing\n",
        "\n",
        "\n",
        "\n"
      ],
      "metadata": {
        "id": "tFTGm7lhfUCv"
      }
    },
    {
      "cell_type": "code",
      "source": [
        "# Task 1: Basic Chain of Thought Prompting\n",
        "prompt = \"Explain how to solve this math problem step by step: 15% of 80 + 60.\"\n",
        "print(\"🔁 Prompt:\", prompt)"
      ],
      "metadata": {
        "colab": {
          "base_uri": "https://localhost:8080/"
        },
        "id": "OOVNoKm_hSpq",
        "outputId": "88aef617-5cab-421e-9d18-47a2454569fc"
      },
      "execution_count": 1,
      "outputs": [
        {
          "output_type": "stream",
          "name": "stdout",
          "text": [
            "🔁 Prompt: Explain how to solve this math problem step by step: 15% of 80 + 60.\n"
          ]
        }
      ]
    },
    {
      "cell_type": "code",
      "source": [
        "# Task 2: Self-Ask Prompting\n",
        "prompt = \"How long would it take to drive 300km at 60km/h? Break it down.\"\n",
        "print(\"🧠 Prompt:\", prompt)"
      ],
      "metadata": {
        "colab": {
          "base_uri": "https://localhost:8080/"
        },
        "id": "f6fVe91ZhWOi",
        "outputId": "6d3d0976-c13d-4637-e847-a4449803c1b3"
      },
      "execution_count": 2,
      "outputs": [
        {
          "output_type": "stream",
          "name": "stdout",
          "text": [
            "🧠 Prompt: How long would it take to drive 300km at 60km/h? Break it down.\n"
          ]
        }
      ]
    },
    {
      "cell_type": "code",
      "source": [
        "# Task 3: Prompt Rewriting Exercise\n",
        "original = \"Tell me about the Titanic.\"\n",
        "improved = \"Summarize the Titanic disaster from a historical perspective in 5 bullet points, suitable for a high school history class.\"\n",
        "\n",
        "print(\"📝 Original Prompt:\", original)\n",
        "print(\"✅ Improved Prompt:\", improved)"
      ],
      "metadata": {
        "colab": {
          "base_uri": "https://localhost:8080/"
        },
        "id": "1ZNQOVU-hWJN",
        "outputId": "fa219127-d0f1-4e9b-f25a-6ac2bc277ec0"
      },
      "execution_count": 3,
      "outputs": [
        {
          "output_type": "stream",
          "name": "stdout",
          "text": [
            "📝 Original Prompt: Tell me about the Titanic.\n",
            "✅ Improved Prompt: Summarize the Titanic disaster from a historical perspective in 5 bullet points, suitable for a high school history class.\n"
          ]
        }
      ]
    },
    {
      "cell_type": "markdown",
      "source": [
        "# 🛠️ Smart Tasks:\n",
        "1. Basic CoT Prompt\n",
        "  * Prompt: “Explain how to solve this math problem step by step: 15% of 80 + 60.”\n",
        "\n",
        "2. Self-Ask Prompt\n",
        "  * Prompt: “How long would it take to drive 300km at 60km/h? Break it down.”\n",
        "\n",
        "3. Prompt Rewriting Exercise\n",
        "  * Original: “Tell me about the Titanic.”\n",
        "\n",
        "  * Improved: “Summarize the Titanic disaster from a historical perspective in 5 bullet points, suitable for a high school history class.”\n",
        "  \n",
        "🔹 Example:\n",
        "\n",
        "* Prompt:  Write a 2-sentence summary of the French Revolution. Then, refine the response to improve clarity."
      ],
      "metadata": {
        "id": "csAvDGpoiEvd"
      }
    },
    {
      "cell_type": "markdown",
      "source": [
        "# ✨ Advanced Combo\n",
        "\n",
        "\n",
        "```\n",
        "You can combine these techniques for powerful prompting:\n",
        "\n",
        "\"Let’s solve this step by step. Ask yourself any sub-questions needed. Then refine your answer for clarity and completeness.\"\n",
        "```\n",
        "\n",
        ""
      ],
      "metadata": {
        "id": "3eUD1UE3kgoc"
      }
    },
    {
      "cell_type": "markdown",
      "source": [
        "## 🧪 Notebook Project: Prompt Reasoning Lab\n",
        "\n",
        "Try the above prompt types on these sample tasks:\n",
        "- 🤖 Explain a ML pipeline to a beginner step by step\n",
        "- 🧠 Break down a logic puzzle or brain teaser\n",
        "- 📊 Summarize a dataset using prompt refinement"
      ],
      "metadata": {
        "id": "hgADf5bThnL-"
      }
    }
  ]
}